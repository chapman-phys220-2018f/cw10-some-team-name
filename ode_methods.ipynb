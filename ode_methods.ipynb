{
 "cells": [
  {
   "cell_type": "markdown",
   "metadata": {
    "collapsed": false
   },
   "source": [
    "Name: Jacob Anabi, Gage Kizzar\n",
    "\n",
    "Student ID: 2294644,2291700\n",
    "\n",
    "Email: anabi@chapman.edu,kizzar@chapman.edu\n",
    "\n",
    "Course: PHYS220/MATH220/CPSC220 Fall 2018\n",
    "\n",
    "Assignment: CW10"
   ]
  },
  {
   "cell_type": "markdown",
   "metadata": {
    "collapsed": false
   },
   "source": [
    "# Abstract"
   ]
  },
  {
   "cell_type": "markdown",
   "metadata": {
    "collapsed": false
   },
   "source": [
    "There are many analytical methods to solve an ordinary differential equation (ODE), but since the advent of computers, and in this paper, we are interested in numerical approximations of the solution. To further elaborate, we will be discussing 5 solution methods and what each one actually does. These methods include:\n",
    "\n",
    "Euler's Method, Leapfrog (Midpoint) Method, Heun's (Trapezoid) Method, 2nd-order Runge-Kutta Method, and 4th-order Runge-Kutta Method."
   ]
  },
  {
   "cell_type": "markdown",
   "metadata": {
    "collapsed": false
   },
   "source": [
    "## Introduction"
   ]
  },
  {
   "cell_type": "markdown",
   "metadata": {
    "collapsed": false
   },
   "source": [
    "Consider a first-order ordinary differential equation (ODE):\n",
    "$$u'(t) = f[t, u(t)]$$\n",
    "For a more specific case, let's say $u'(t)=2u(t)$, where $f[t, u(t)]$ is the slope of $u(t)$ at some domain point $t$. If we define discrete domain points as $(t_0, t_1, t_2, ..., t_N)$, where $\\Delta t = t_{k+1} - t_k$ with uniform spacing. If we know some initial condition, $u(t_0)=u_0$, we can then construct range points $(u_0, u_1, u_2, ..., u_N)$, where $u(t_k)=u_k$, by using the slope, $u'(t_k)=u'_k$, at each domain point. However, this requires knowledge of the original function, $u(t)$."
   ]
  },
  {
   "cell_type": "markdown",
   "metadata": {
    "collapsed": false
   },
   "source": [
    "There are five solution methods that work well for numerical approximations, and they are listed below:\n",
    "\n",
    "Euler's Method, Leapfrog (Midpoint) Method, Heun's (Trapezoid) Method, 2nd-order Runge-Kutta Method, and 4th-order Runge-Kutta Method."
   ]
  },
  {
   "cell_type": "markdown",
   "metadata": {
    "collapsed": false
   },
   "source": [
    "## Euler's Method"
   ]
  },
  {
   "cell_type": "markdown",
   "metadata": {
    "collapsed": false
   },
   "source": [
    "Euler's method, which is accurate to 1st-order, is defined as:\n",
    "\\[u_{k+1} = u_k + \\Delta t\\, f[t_k, u_k]\\]\n",
    "\n",
    "To understand what this means, let's work with an example $u'(t)=u(t)$. By looking at this example, we can see that $u(t)=e^t$. But let's assume we don't know that, and the only thing we know is some initial condition $u_0=u(0)=1$. We will first work with a $\\Delta t=1$ (a $\\Delta t$ this big won't be as accurate as a smaller $\\Delta t$, and we will see that later).\n",
    "\n",
    "For a $u_0=u'_0=1$, we can then say, using Euler's method:\n",
    "\\[u_1=u_0+\\Delta tu'_0=2\\]\n",
    "\n",
    "For $t=2$ and $u'_1=2$:\n",
    "\\[u_2=u_1+\\Delta tu'_1=4\\]\n",
    "\n",
    "Let's now compare this to our function $e^x$:\n",
    "\\[e^0=1\\,e^1=e\\,e^2\\approx 7.389\\]\n",
    "\n",
    "We can see a step size of $\\Delta t = 1$, is not very accuarate. Let's try a step size of $\\Delta t = 0.25$.\n",
    "\n",
    "For a $u_0=u'_0=1$, we can then say, using Euler's method:\n",
    "\\[u_1=u(0.25)=u_0+\\Delta tu'_0=1.25\\]\n",
    "\n",
    "For $t=2$ and $u'_1=1.25$:\n",
    "\\[u_2=u(0.5)=u_1+\\Delta tu'_1=1.5625\\]\n",
    "\n",
    "Let's now compare this to our function $e^x$:\n",
    "\\[e^0=1\\,e^{0.25}\\approx 1.284\\,e^{0.5}\\approx 1.649\\]\n",
    "\n",
    "Thus, if we keep decreasing the step-size $\\Delta t$, we should get increasingly accurate results. This process of using a smaller step size can be handled by a computer.\n",
    "\n",
    "To understand why a smaller step size is preferable, we should understand what this looks like graphically. For this method, we are assuming a constant slope between each domain point. Now this isn't a problem for a linear graph, since it has a constant slope everywhere. But the same cannot be said for an exponential graph. So, for smaller $\\Delta t's$, we are making smaller and smaller assumptions, thus more accurate results."
   ]
  },
  {
   "cell_type": "markdown",
   "metadata": {
    "collapsed": false
   },
   "source": [
    "## Leapfrog Method"
   ]
  },
  {
   "cell_type": "markdown",
   "metadata": {
    "collapsed": false
   },
   "source": [
    "The leapfrog method, which is accurate to the 2nd-order, is defined as:\n",
    "\\[u_{k+1} = u_{k-1} + 2\\Delta t, f[t_k, u_k]\\]\n",
    "\n",
    "In this method, to compute the next point of the function, all we need is the slope at the current point and the result at the last point.\n",
    "\n",
    "The leapfrog method can easily be reversed to find the previous answer as well, using knowledge of later points in the function.\n",
    "\\[u_{k-1} = u_{k+1} - 2\\Delta t, f[t_k, u_k]\\]\n",
    "\n",
    "Just like Euler's method, the leapfrog method becomes more and more accurate the smaller the $\\Delta t$ steps are, because at these smaller $\\Delta t$ steps, the linear approximation becomes closer and closer to the function. This is unfeasible for humans but easy for a computer to calculate."
   ]
  },
  {
   "cell_type": "markdown",
   "metadata": {
    "collapsed": false
   },
   "source": [
    "## Heun's Method"
   ]
  },
  {
   "cell_type": "markdown",
   "metadata": {
    "collapsed": true
   },
   "source": [
    "Heun's Method is an attempt to reconcile the downsides of Euler's Method (namely its slowness and lack of accuracy at large curvatures) by taking the tangent at both the current and next point and taking the average of the two.\n",
    "\n",
    "To perform Heun's method, we need the tangent at the two points. The tangent at the first point is\n",
    "\\[slope_{left} = f[x_n,y_n]\\]\n",
    "\n",
    "and we can use Euler's Method to approximate the coordinates at the next point n+1:\n",
    "\n",
    "\\[(x_{n+1},y_{n+1}) = (x_n+h,y_n+hf(x_n,y_n))\\]\n",
    "\n",
    "we can find the tangent at n+1 as\n",
    "\n",
    "\\[slope_{right}= f(x_n+h,y_n+hf(x_n,y_n))\\]\n",
    "\n",
    "Finally, Heun's Method finds the point n+1 as\n",
    "\n",
    "\\[(x_{n+1},y_{n+1}) = 1/2(slope_{left}+slope_{right})\\]"
   ]
  },
  {
   "cell_type": "markdown",
   "metadata": {
    "collapsed": false
   },
   "source": [
    "## 2nd Order Runge-Kutta Method"
   ]
  },
  {
   "cell_type": "markdown",
   "metadata": {
    "collapsed": false
   },
   "source": [
    "The Runge-Kutta methods attempt to minimize error during calculation by taking an intermediate trial step to cancel out error terms. The second order method takes the form of:\n",
    "\\[k_1 = hf[x_n,y_n]\\]\n",
    "\\[k_2 = hf[x_n+(1/2)h,y_n+(1/2)k_1]\\]\n",
    "\\[y_{n+1}=y_n+k_2+O(h^3)\\]\n",
    "\n",
    "O is a Landeau symbol; f = O(p) means that the absolute value of f is less than A*p for some constant A at all values of x and n."
   ]
  },
  {
   "cell_type": "markdown",
   "metadata": {
    "collapsed": false
   },
   "source": [
    "## 4th Order Runge-Kutta Method"
   ]
  },
  {
   "cell_type": "markdown",
   "metadata": {
    "collapsed": false
   },
   "source": [
    "Let's now talk about 4th-order Runge-Kutta Method, which is accurate to 4th-order:\n",
    "\n",
    "   $u_{k+1} = u_k + (K_1 + 2K_2 + 2K_3 + K_4)/6$,\n",
    "\n",
    "   $K_1 = \\Delta t\\,f[t_k,u_k]$,\n",
    "\n",
    "   $K_2 = \\Delta t\\, f[t_k + \\Delta t/2, u_k + K_1/2]$,\n",
    "\n",
    "   $K_3 = \\Delta t\\, f[t_k + \\Delta t/2, u_k + K_2/2]$\n",
    "\n",
    "   $K_4 = \\Delta t\\,f[t_k + \\Delta t, u_k + K_3]$\n",
    "\n",
    "For simplification purposes, we can rewrite this as:\n",
    "\n",
    "   $u_{k+1} = u_k + \\Delta t\\,(K_1 + 2K_2 + 2K_3 + K_4)/6$,\n",
    "\n",
    "   $K_1 = f[t_k,u_k]$,\n",
    "\n",
    "   $K_2 = f[t_k + \\Delta t/2, u_k + K_1/2]$,\n",
    "\n",
    "   $K_3 = f[t_k + \\Delta t/2, u_k + K_2/2]$\n",
    "\n",
    "   $K_4 = f[t_k + \\Delta t, u_k + K_3]$\n",
    "\n",
    "   where $(K_1 + 2K_2 + 2K_3 + K_4)/6$ is our average slope.\n",
    "\n",
    "So, we can calculate this $K-values$, these slopes, at 4 different points, we can then approximate $u_k$ for each $t-value$.\n",
    "\n",
    "Let's work through an example for a more clear understanding:\n",
    "\n",
    "Suppose $u'(t) = f[t, u(t)] = 2u + t$, where $u(0) = u_0 = 1$ and $\\Delta t = 1$\n",
    "Then,\n",
    "\n",
    "   $K_1 = f[t_k,u_k] = 2(1) + 0 = 2$\n",
    "\n",
    "   $K_2 = f[t_k + \\Delta t/2, u_k + K_1/2] = 2(2) + 0.5 = 4.5$,\n",
    "\n",
    "   $K_3 = f[t_k + \\Delta t/2, u_k + K_2/2] = 2(3.25) + 0.5 = 7$\n",
    "\n",
    "   $K_4 = f[t_k + \\Delta t, u_k + K_3] = 2(8) + 1 = 17$\n",
    "\n",
    "Thus, our average slope is $(K_1 + 2K_2 + 2K_3 + K_4)/6 = (2 + 2(4.5) + 2(7) + 17)/6 = 7$\n",
    "\n",
    "So, $u_{0+1} = u_1 = u_0 + \\Delta t\\,(average\\,slope) = 1 + 1(7) = 8$\n",
    "\n",
    "Now we can graph each $u_k$ based on its average slope."
   ]
  }
 ],
 "metadata": {
  "kernelspec": {
   "display_name": "Python 3 (Anaconda 5)",
   "language": "python",
   "name": "anaconda5"
  },
  "language_info": {
   "codemirror_mode": {
    "name": "ipython",
    "version": 3
   },
   "file_extension": ".py",
   "mimetype": "text/x-python",
   "name": "python",
   "nbconvert_exporter": "python",
   "pygments_lexer": "ipython3",
   "version": "3.6.5"
  }
 },
 "nbformat": 4,
 "nbformat_minor": 0
}