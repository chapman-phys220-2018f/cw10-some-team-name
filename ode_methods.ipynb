{
 "cells": [
  {
   "cell_type": "markdown",
   "metadata": {
    "collapsed": false
   },
   "source": [
    "Name: Jacob Anabi, Gage Kizzar\n",
    "\n",
    "Student ID: 2294644,2291700\n",
    "\n",
    "Email: anabi@chapman.edu,kizzar@chapman.edu\n",
    "\n",
    "Course: PHYS220/MATH220/CPSC220 Fall 2018\n",
    "\n",
    "Assignment: CW10"
   ]
  },
  {
   "cell_type": "markdown",
   "metadata": {
    "collapsed": false
   },
   "source": [
    "# Abstract"
   ]
  },
  {
   "cell_type": "markdown",
   "metadata": {
    "collapsed": false
   },
   "source": [
    "There are many analytical methods to solve an ordinary differential equation (ODE), but since the advent of computers, and in this paper, we are interested in numerical approximations of the solution. To further elaborate, we will be discussing 5 solution methods and what each one actually does. These methods include:\n",
    "\n",
    "Euler's Method, Leapfrog (Midpoint) Method, Heun's (Trapezoid) Method, 2nd-order Runge-Kutta Method, and 4th-order Runge-Kutta Method."
   ]
  },
  {
   "cell_type": "markdown",
   "metadata": {
    "collapsed": false
   },
   "source": [
    "## Introduction"
   ]
  },
  {
   "cell_type": "markdown",
   "metadata": {
    "collapsed": false
   },
   "source": [
    "Consider a first-order ordinary differential equation (ODE):\n",
    "$$u'(t) = f[t, u(t)]$$\n",
    "For a more specific case, let's say $u'(t)=2u(t)$, where $f[t, u(t)]$ is the slope of $u(t)$ at some domain point $t$. If we define discrete domain points as $(t_0, t_1, t_2, ..., t_N)$, where $\\Delta t = t_{k+1} - t_k$ with uniform spacing. If we know some initial condition, $u(t_0)=u_0$, we can then construct range points $(u_0, u_1, u_2, ..., u_N)$, where $u(t_k)=u_k$, by using the slope, $u'(t_k)=u'_k$, at each domain point. However, this requires knowledge of the original function, $u(t)$."
   ]
  },
  {
   "cell_type": "markdown",
   "metadata": {
    "collapsed": false
   },
   "source": [
    "There are five solution methods that work well for numerical approximations, and they are listed below:\n",
    "\n",
    "Euler's Method, Leapfrog (Midpoint) Method, Heun's (Trapezoid) Method, 2nd-order Runge-Kutta Method, and 4th-order Runge-Kutta Method."
   ]
  },
  {
   "cell_type": "markdown",
   "metadata": {
    "collapsed": false
   },
   "source": [
    "## Euler's Method"
   ]
  },
  {
   "cell_type": "markdown",
   "metadata": {
    "collapsed": false
   },
   "source": [
    "Euler's method, which is accurate to 1st-order, is defined as:\n",
    "\\[u_{k+1} = u_k + \\Delta t\\, f[t_k, u_k]\\]\n",
    "\n",
    "To understand what this means, let's work with an example $u'(t)=u(t)$. By looking at this example, we can see that $u(t)=e^t$. But let's assume we don't know that, and the only thing we know is some initial condition $u_0=u(0)=1$. We will first work with a $\\Delta t=1$ (a $\\Delta t$ this big won't be as accurate as a smaller $\\Delta t$, and we will see that later).\n",
    "\n",
    "For a $u_0=u'_0=1$, we can then say, using Euler's method:\n",
    "\\[u_1=u_0+\\Delta tu'_0=2\\]\n",
    "\n",
    "For $t=2$ and $u'_1=2$:\n",
    "\\[u_2=u_1+\\Delta tu'_1=4\\]\n",
    "\n",
    "Let's now compare this to our function $e^x$:\n",
    "\\[e^0=1\\,e^1=e\\,e^2\\approx 7.389\\]\n",
    "\n",
    "We can see a step size of $\\Delta t = 1$, is not very accuarate. Let's try a step size of $\\Delta t = 0.25$.\n",
    "\n",
    "For a $u_0=u'_0=1$, we can then say, using Euler's method:\n",
    "\\[u_1=u(0.25)=u_0+\\Delta tu'_0=1.25\\]\n",
    "\n",
    "For $t=2$ and $u'_1=1.25$:\n",
    "\\[u_2=u(0.5)=u_1+\\Delta tu'_1=1.5625\\]\n",
    "\n",
    "Let's now compare this to our function $e^x$:\n",
    "\\[e^0=1\\,e^{0.25}\\approx 1.284\\,e^{0.5}\\approx 1.649\\]\n",
    "\n",
    "Thus, if we keep decreasing the step-size $\\Delta t$, we should get increasingly accurate results. This process of using a smaller step size can be handled by a computer.\n",
    "\n",
    "To understand why a smaller step size is preferable, we should understand what this looks like graphically. For this method, we are assuming a constant slope between each domain point. Now this isn't a problem for a linear graph, since it has a constant slope everywhere. But the same cannot be said for an exponential graph. So, for smaller $\\Delta t's$, we are making smaller and smaller assumptions, thus more accurate results."
   ]
  },
  {
   "cell_type": "markdown",
   "metadata": {
    "collapsed": false
   },
   "source": [
    "## Leapfrog Method"
   ]
  },
  {
   "cell_type": "markdown",
   "metadata": {
    "collapsed": false
   },
   "source": [
    "The leapfrog method, which is accurate to the 2nd-order, is defined as:\n",
    "\\[u_{k+1} = u_{k-1} + 2\\Delta t, f[t_k, u_k]\\]\n",
    "\n",
    "In this method, to compute the next point of the function, all we need is the slope at the current point and the result at the last point.\n",
    "\n",
    "The leapfrog method can easily be reversed to find the previous answer as well, using knowledge of later points in the function.\n",
    "\n",
    "Just like Euler's method, the leapfrog method becomes more and more accurate the smaller the $\\Delta t$ steps are, because at these smaller $\\Delta t$ steps, the linear approximation becomes closer and closer to the function. This is unfeasible for humans but easy for a computer to calculate."
   ]
  },
  {
   "cell_type": "markdown",
   "metadata": {
    "collapsed": false
   },
   "source": [
    "## Heun's Method"
   ]
  },
  {
   "cell_type": "markdown",
   "metadata": {
    "collapsed": false
   },
   "source": [
    "## 2nd Order Range-Kutta Method"
   ]
  },
  {
   "cell_type": "markdown",
   "metadata": {
    "collapsed": false
   },
   "source": [
    "## 4th Order Range-Kutta Method"
   ]
  }
 ],
 "metadata": {
  "kernelspec": {
   "display_name": "Python 3 (Anaconda 5)",
   "language": "python",
   "name": "anaconda5"
  },
  "language_info": {
   "codemirror_mode": {
    "name": "ipython",
    "version": 3
   },
   "file_extension": ".py",
   "mimetype": "text/x-python",
   "name": "python",
   "nbconvert_exporter": "python",
   "pygments_lexer": "ipython3",
   "version": "3.6.5"
  }
 },
 "nbformat": 4,
 "nbformat_minor": 0
}